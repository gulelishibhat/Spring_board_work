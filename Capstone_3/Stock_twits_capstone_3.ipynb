{
 "cells": [
  {
   "cell_type": "markdown",
   "id": "european-queensland",
   "metadata": {},
   "source": [
    "Natural Language Processing  has already been the independent, broad  topic in the machine learning  and artifical intelligence. \n",
    "Among different branches of natural language , I am interested in the text processing to obtain the sentiment of the stock tweets. Stock tweets are not as broad as other normal tweets, they are related to particular topic, stock market.\n",
    "The big tech companies with tons of text data has built the platform  to facilitate the sentiment analysis. I choose the three different models likely built by  google, flair and vader.\n",
    "I have more than 2500 random tweets from stocktwits.com, which I use to obtain the sentiment score from these three pretrained model. My next step was to evaluate which one will create the better supervised model. Later,  I used Naive Bayes to  obtain the accuracy for three different models."
   ]
  },
  {
   "cell_type": "markdown",
   "id": "rapid-event",
   "metadata": {},
   "source": [
    "### Importing the modules required"
   ]
  },
  {
   "cell_type": "code",
   "execution_count": 722,
   "id": "foster-orbit",
   "metadata": {},
   "outputs": [],
   "source": [
    "#importing module\n",
    "from google.cloud import language\n",
    "from google.cloud.language import enums\n",
    "from google.cloud.language import types\n",
    "import os\n",
    "import pandas as pd\n",
    "import re\n",
    "from ipywidgets import IntProgress\n",
    "from nltk.sentiment.vader import SentimentIntensityAnalyzer\n",
    "from ipywidgets import IntProgress\n",
    "import flair\n",
    "from collections import defaultdict\n",
    "from collections import Counter\n",
    "import flair\n",
    "import glob\n",
    "import os\n",
    "import numpy as np\n",
    "import nltk\n",
    "import seaborn as sns\n",
    "import matplotlib.pyplot as plt\n",
    "from sklearn.feature_extraction.text import TfidfVectorizer\n",
    "from sklearn.model_selection import train_test_split\n",
    "from nltk.tokenize import TweetTokenizer\n",
    "from sklearn.naive_bayes import MultinomialNB\n",
    "from sklearn import metrics\n",
    "from nltk.stem import PorterStemmer\n",
    "nltk.download('wordnet')\n",
    "from nltk.stem import WordNetLemmatizer"
   ]
  },
  {
   "cell_type": "markdown",
   "id": "requested-offense",
   "metadata": {},
   "source": [
    "I have more than 100 files ot .txt which I join them to single file using module name glob. Later, I appended all the tweets into a single list.\n",
    "I changed the list into pandas DataFrame which makes easy for text mining and modeling. I build the columns for  date, username and tweet after spliting."
   ]
  },
  {
   "cell_type": "markdown",
   "id": "fabulous-basin",
   "metadata": {},
   "source": [
    "### Import text file and merging into single list"
   ]
  },
  {
   "cell_type": "code",
   "execution_count": 5,
   "id": "certified-stock",
   "metadata": {},
   "outputs": [],
   "source": [
    "\n",
    "# the path to your csv file directory\n",
    "mycsvdir = '/Users/student1/Desktop/Spring_board_way_data_science/Capstone__3/Stock_twits'\n",
    "\n",
    "# get all the csv files in that directory (assuming they have the extension .csv)\n",
    "csvfiles = glob.glob(os.path.join(mycsvdir, '*.txt'))\n",
    "\n",
    "# loop through the files and read them in with pandas\n",
    " # a list to hold all the individual pandas DataFrames\n",
    "dataframes = []\n",
    "for csvfile in csvfiles:\n",
    "    with open(csvfile) as file_in:\n",
    "        lines = []\n",
    "        for line in file_in:\n",
    "            lines.append(line.rstrip('\\n'))\n",
    "        dataframes.append(lines)"
   ]
  },
  {
   "cell_type": "code",
   "execution_count": 246,
   "id": "authorized-aging",
   "metadata": {},
   "outputs": [],
   "source": [
    "#extract the date, user and twits into three different columns by spliting the data in  correct way\n",
    "df = pd.DataFrame(np.concatenate(dataframes, axis = 0))\n",
    "df['date'] = df[0].apply(lambda x: x.split(';')[0])\n",
    "df['user'] = df[0].apply(lambda x: x.split(';')[-1])\n",
    "df['twits'] = df[0].apply(lambda x: x.split(';')[1:-1])"
   ]
  },
  {
   "cell_type": "code",
   "execution_count": 248,
   "id": "yellow-property",
   "metadata": {},
   "outputs": [],
   "source": [
    "#drop the columns with column name zero\n",
    "df = df.drop(columns = 0)"
   ]
  },
  {
   "cell_type": "code",
   "execution_count": 260,
   "id": "monthly-building",
   "metadata": {},
   "outputs": [],
   "source": [
    "#save the data into new csv file\n",
    "df.to_csv('Twits_sample_data.csv')"
   ]
  },
  {
   "cell_type": "code",
   "execution_count": 80,
   "id": "appreciated-spiritual",
   "metadata": {},
   "outputs": [],
   "source": [
    "#read the csv file saved\n",
    "twits = pd.read_csv('Twits_sample_data.csv', index_col = 0)"
   ]
  },
  {
   "cell_type": "code",
   "execution_count": 81,
   "id": "fancy-lesson",
   "metadata": {
    "scrolled": true
   },
   "outputs": [
    {
     "data": {
      "text/html": [
       "<div>\n",
       "<style scoped>\n",
       "    .dataframe tbody tr th:only-of-type {\n",
       "        vertical-align: middle;\n",
       "    }\n",
       "\n",
       "    .dataframe tbody tr th {\n",
       "        vertical-align: top;\n",
       "    }\n",
       "\n",
       "    .dataframe thead th {\n",
       "        text-align: right;\n",
       "    }\n",
       "</style>\n",
       "<table border=\"1\" class=\"dataframe\">\n",
       "  <thead>\n",
       "    <tr style=\"text-align: right;\">\n",
       "      <th></th>\n",
       "      <th>date</th>\n",
       "      <th>user</th>\n",
       "      <th>twits</th>\n",
       "    </tr>\n",
       "  </thead>\n",
       "  <tbody>\n",
       "    <tr>\n",
       "      <th>1063</th>\n",
       "      <td>11/30/2018 5:55:58 PM</td>\n",
       "      <td>risenhoover</td>\n",
       "      <td>['Insider DOWNEY MICHAEL J reports selling 12,...</td>\n",
       "    </tr>\n",
       "    <tr>\n",
       "      <th>462</th>\n",
       "      <td>8/14/2013 8:50:48 PM</td>\n",
       "      <td>TheHookingBull</td>\n",
       "      <td>['$MNKD I  can see a move similar to $amln hig...</td>\n",
       "    </tr>\n",
       "    <tr>\n",
       "      <th>2239</th>\n",
       "      <td>11/20/2014 10:24:08 PM</td>\n",
       "      <td>cctranscripts</td>\n",
       "      <td>['Securities to be offered to employees in emp...</td>\n",
       "    </tr>\n",
       "    <tr>\n",
       "      <th>2071</th>\n",
       "      <td>6/13/2014 11:30:44 AM</td>\n",
       "      <td>BVTechnology</td>\n",
       "      <td>['$AMAP AutoNavi Announces Extraordinary Gener...</td>\n",
       "    </tr>\n",
       "    <tr>\n",
       "      <th>1294</th>\n",
       "      <td>3/19/2021 11:49:48 PM</td>\n",
       "      <td>Newsfilter</td>\n",
       "      <td>['$APD Air Products wins bullish view at Cowen...</td>\n",
       "    </tr>\n",
       "    <tr>\n",
       "      <th>2088</th>\n",
       "      <td>3/22/2021 9:38:14 PM</td>\n",
       "      <td>Anthony1985</td>\n",
       "      <td>['$AMCX  What&amp;#39', 's wrong so far no informa...</td>\n",
       "    </tr>\n",
       "    <tr>\n",
       "      <th>1981</th>\n",
       "      <td>8/15/2016 10:08:09 AM</td>\n",
       "      <td>cctranscripts</td>\n",
       "      <td>['Prospectuses and communications, business co...</td>\n",
       "    </tr>\n",
       "    <tr>\n",
       "      <th>1784</th>\n",
       "      <td>7/8/2016 10:02:04 AM</td>\n",
       "      <td>cctranscripts</td>\n",
       "      <td>['Alexza Pharmaceuticals Just Received a Notic...</td>\n",
       "    </tr>\n",
       "    <tr>\n",
       "      <th>2427</th>\n",
       "      <td>3/12/2021 9:10:05 PM</td>\n",
       "      <td>CZARBETS</td>\n",
       "      <td>['$AMG Big Trade - $7,911,981\\\\n54,434 shares ...</td>\n",
       "    </tr>\n",
       "    <tr>\n",
       "      <th>745</th>\n",
       "      <td>3/21/2021 10:36:05 AM</td>\n",
       "      <td>tickeron</td>\n",
       "      <td>['Wow this is a big change! $ANDE The volume i...</td>\n",
       "    </tr>\n",
       "    <tr>\n",
       "      <th>1596</th>\n",
       "      <td>3/22/2021 12:23:42 PM</td>\n",
       "      <td>Quantisnow</td>\n",
       "      <td>['$AM \\\\uD83D\\\\uDCE1 Morgan Stanley reiterated...</td>\n",
       "    </tr>\n",
       "    <tr>\n",
       "      <th>652</th>\n",
       "      <td>1/31/2017 2:11:37 AM</td>\n",
       "      <td>cctranscripts</td>\n",
       "      <td>['Applied Micro Circuits Corporation director ...</td>\n",
       "    </tr>\n",
       "    <tr>\n",
       "      <th>1347</th>\n",
       "      <td>2/1/2019 6:43:47 PM</td>\n",
       "      <td>risenhoover</td>\n",
       "      <td>['Lighthouse Investment Partners, Llc has clos...</td>\n",
       "    </tr>\n",
       "    <tr>\n",
       "      <th>808</th>\n",
       "      <td>3/24/2021 5:02:32 PM</td>\n",
       "      <td>MSMoneyMoves</td>\n",
       "      <td>['$BCRX since beats want to pound the table re...</td>\n",
       "    </tr>\n",
       "    <tr>\n",
       "      <th>49</th>\n",
       "      <td>4/7/2020 12:57:03 AM</td>\n",
       "      <td>ABN_Newswire</td>\n",
       "      <td>['Anatara Lifesciences Ltd (ASX:ANR) Market Up...</td>\n",
       "    </tr>\n",
       "    <tr>\n",
       "      <th>30</th>\n",
       "      <td>3/22/2021 11:55:43 PM</td>\n",
       "      <td>casperstanley</td>\n",
       "      <td>['$ANR ASXC This is the future of surgery with...</td>\n",
       "    </tr>\n",
       "    <tr>\n",
       "      <th>2624</th>\n",
       "      <td>3/16/2021 2:45:28 PM</td>\n",
       "      <td>Swingwithme</td>\n",
       "      <td>['$SSY In a downtrend currently but wait for a...</td>\n",
       "    </tr>\n",
       "    <tr>\n",
       "      <th>337</th>\n",
       "      <td>2/18/2021 1:00:29 PM</td>\n",
       "      <td>MarketBeat</td>\n",
       "      <td>['Piper Sandler Raises Alexander&amp;#39', 's Q4 2...</td>\n",
       "    </tr>\n",
       "    <tr>\n",
       "      <th>1376</th>\n",
       "      <td>5/4/2019 7:55:36 PM</td>\n",
       "      <td>DividendBot</td>\n",
       "      <td>['$ANCX has moved -2.4% on 01-31. Check out th...</td>\n",
       "    </tr>\n",
       "    <tr>\n",
       "      <th>2021</th>\n",
       "      <td>4/28/2020 10:56:49 AM</td>\n",
       "      <td>cctranscripts</td>\n",
       "      <td>['Report of foreign issuer [Rules 13a-16 and 1...</td>\n",
       "    </tr>\n",
       "  </tbody>\n",
       "</table>\n",
       "</div>"
      ],
      "text/plain": [
       "                        date            user  \\\n",
       "1063   11/30/2018 5:55:58 PM     risenhoover   \n",
       "462     8/14/2013 8:50:48 PM  TheHookingBull   \n",
       "2239  11/20/2014 10:24:08 PM   cctranscripts   \n",
       "2071   6/13/2014 11:30:44 AM    BVTechnology   \n",
       "1294   3/19/2021 11:49:48 PM      Newsfilter   \n",
       "2088    3/22/2021 9:38:14 PM     Anthony1985   \n",
       "1981   8/15/2016 10:08:09 AM   cctranscripts   \n",
       "1784    7/8/2016 10:02:04 AM   cctranscripts   \n",
       "2427    3/12/2021 9:10:05 PM        CZARBETS   \n",
       "745    3/21/2021 10:36:05 AM        tickeron   \n",
       "1596   3/22/2021 12:23:42 PM      Quantisnow   \n",
       "652     1/31/2017 2:11:37 AM   cctranscripts   \n",
       "1347     2/1/2019 6:43:47 PM     risenhoover   \n",
       "808     3/24/2021 5:02:32 PM    MSMoneyMoves   \n",
       "49      4/7/2020 12:57:03 AM    ABN_Newswire   \n",
       "30     3/22/2021 11:55:43 PM   casperstanley   \n",
       "2624    3/16/2021 2:45:28 PM     Swingwithme   \n",
       "337     2/18/2021 1:00:29 PM      MarketBeat   \n",
       "1376     5/4/2019 7:55:36 PM     DividendBot   \n",
       "2021   4/28/2020 10:56:49 AM   cctranscripts   \n",
       "\n",
       "                                                  twits  \n",
       "1063  ['Insider DOWNEY MICHAEL J reports selling 12,...  \n",
       "462   ['$MNKD I  can see a move similar to $amln hig...  \n",
       "2239  ['Securities to be offered to employees in emp...  \n",
       "2071  ['$AMAP AutoNavi Announces Extraordinary Gener...  \n",
       "1294  ['$APD Air Products wins bullish view at Cowen...  \n",
       "2088  ['$AMCX  What&#39', 's wrong so far no informa...  \n",
       "1981  ['Prospectuses and communications, business co...  \n",
       "1784  ['Alexza Pharmaceuticals Just Received a Notic...  \n",
       "2427  ['$AMG Big Trade - $7,911,981\\\\n54,434 shares ...  \n",
       "745   ['Wow this is a big change! $ANDE The volume i...  \n",
       "1596  ['$AM \\\\uD83D\\\\uDCE1 Morgan Stanley reiterated...  \n",
       "652   ['Applied Micro Circuits Corporation director ...  \n",
       "1347  ['Lighthouse Investment Partners, Llc has clos...  \n",
       "808   ['$BCRX since beats want to pound the table re...  \n",
       "49    ['Anatara Lifesciences Ltd (ASX:ANR) Market Up...  \n",
       "30    ['$ANR ASXC This is the future of surgery with...  \n",
       "2624  ['$SSY In a downtrend currently but wait for a...  \n",
       "337   ['Piper Sandler Raises Alexander&#39', 's Q4 2...  \n",
       "1376  ['$ANCX has moved -2.4% on 01-31. Check out th...  \n",
       "2021  ['Report of foreign issuer [Rules 13a-16 and 1...  "
      ]
     },
     "execution_count": 81,
     "metadata": {},
     "output_type": "execute_result"
    }
   ],
   "source": [
    "twits.sample(20)"
   ]
  },
  {
   "cell_type": "markdown",
   "id": "bizarre-highway",
   "metadata": {},
   "source": [
    "### Use of Google Sentiment Analysis"
   ]
  },
  {
   "cell_type": "markdown",
   "id": "prepared-january",
   "metadata": {},
   "source": [
    "I use the  Google API, with their secret keys obtain the sentiment_score. I did the scaling and used this scaled score to get the positing and negative sentiment. If the scaled score greater than 0.5 it is positive if less than 0.5 is negative. I saved them into csv file."
   ]
  },
  {
   "cell_type": "code",
   "execution_count": null,
   "id": "mature-royalty",
   "metadata": {},
   "outputs": [],
   "source": [
    "os.environ['GOOGLE_APPLICATION_CREDENTIALS'] = API_Key"
   ]
  },
  {
   "cell_type": "code",
   "execution_count": 21,
   "id": "second-stake",
   "metadata": {},
   "outputs": [],
   "source": [
    "def google_score(text):\n",
    "    client = language.LanguageServiceClient()\n",
    "    document = types\\\n",
    "               .Document(content=text,\n",
    "                         type=enums.Document.Type.PLAIN_TEXT)\n",
    "    sentiment_score = client\\\n",
    "                      .analyze_sentiment(document=document)\\\n",
    "                      .document_sentiment\\\n",
    "                      .score\n",
    "    return sentiment_score\n",
    "\n",
    "def get_qa_sentiments_google(text):\n",
    "    min = -1\n",
    "    max = 1\n",
    "   \n",
    "    questions = defaultdict(list)\n",
    "\n",
    "    for qfilter in text:\n",
    "\n",
    "        a = google_score(qfilter)\n",
    "        a = (a - min)/(max-min)\n",
    "        a = round(a,2)\n",
    "        if(a>0.5):\n",
    "            b=1\n",
    "        else:\n",
    "            b=-1        \n",
    "\n",
    "        questions['text'].append([qfilter,str(a),str(b)])\n",
    "           \n",
    "    return(questions)\n",
    "\n",
    "if __name__ == \"__main__\":\n",
    "        \n",
    "    tweet_data = pd.read_csv('Twits_sample_data.csv')\n",
    "    # print(tweet_data.head())\n",
    "    #### TEST\n",
    "    #tweet_data = tweet_data[1:5]\n",
    "    # print(tweet_data)\n",
    "    qa_sentiments = get_qa_sentiments_google(tweet_data[\"twits\"])\n",
    "    "
   ]
  },
  {
   "cell_type": "code",
   "execution_count": 62,
   "id": "naughty-iceland",
   "metadata": {},
   "outputs": [],
   "source": [
    " twits_google_score= pd.DataFrame([[k] + j for k,v in qa_sentiments.items() for j in v], columns=['id','text', 'score', 'sent_category'])"
   ]
  },
  {
   "cell_type": "code",
   "execution_count": 72,
   "id": "assured-passport",
   "metadata": {},
   "outputs": [],
   "source": [
    "list_concat = [twits, twits_google_score]\n",
    "df_twits_google = pd.concat(list_concat, axis = 1).drop(columns =['id', 'text'])\n",
    "df_twits_google.to_csv(\"df_go_score_twits.csv\")"
   ]
  },
  {
   "cell_type": "code",
   "execution_count": 723,
   "id": "square-deficit",
   "metadata": {},
   "outputs": [],
   "source": [
    "df_twits = pd.read_csv(\"df_go_score_twits.csv\", index_col = 0)\n",
    "df_twits.rename(columns={'sent_category': 'google_sent'}, inplace=True)"
   ]
  },
  {
   "cell_type": "markdown",
   "id": "brown-laugh",
   "metadata": {},
   "source": [
    "### Use of Flair Sentiment Analysis"
   ]
  },
  {
   "cell_type": "markdown",
   "id": "difficult-struggle",
   "metadata": {},
   "source": [
    "Flair is easy and fast than google API you don't need any secred key. I direcly got the positive and negative sentiment, you can also get the probability of the sentiment."
   ]
  },
  {
   "cell_type": "code",
   "execution_count": 724,
   "id": "every-thunder",
   "metadata": {},
   "outputs": [
    {
     "name": "stdout",
     "output_type": "stream",
     "text": [
      "2021-04-16 13:39:54,223 loading file /Users/student1/.flair/models/sentiment-en-mix-distillbert_4.pt\n"
     ]
    }
   ],
   "source": [
    "#Use the flair pretrained model to get the sentiment\n",
    "sentiment_model = flair.models.TextClassifier.load('en-sentiment')\n",
    "probs = []\n",
    "sentiments = []\n",
    "\n",
    "\n",
    "for tweet in df_twits['twits'].to_list():\n",
    "\n",
    "    sentence = flair.data.Sentence(tweet)\n",
    "    sentiment_model.predict(sentence)\n",
    "\n",
    "    probs.append(sentence.labels[0].score) \n",
    "    sentiments.append(sentence.labels[0].value)\n",
    "\n",
    "\n",
    "#df_twits['probability'] = probs\n",
    "df_twits['sentiment'] = sentiments"
   ]
  },
  {
   "cell_type": "code",
   "execution_count": 725,
   "id": "hourly-enzyme",
   "metadata": {},
   "outputs": [],
   "source": [
    "df_twits['flair_sent'] = df_twits['sentiment'].replace('POSITIVE', 1).replace(\"NEGATIVE\", -1)"
   ]
  },
  {
   "cell_type": "markdown",
   "id": "checked-quebec",
   "metadata": {},
   "source": [
    "### Use of Vader Sentiment Analysis"
   ]
  },
  {
   "cell_type": "markdown",
   "id": "dimensional-borough",
   "metadata": {},
   "source": [
    "NLTK as the pretrained mode from Vade, which is even easier and fast than the flair. Flair gives three different sentiment score, poisitve , negative and neutral. I use the compound score  greater than 0.1 as postive and less than 0.1 as negative."
   ]
  },
  {
   "cell_type": "code",
   "execution_count": 726,
   "id": "offensive-arizona",
   "metadata": {},
   "outputs": [],
   "source": [
    "#Use the nltk  pretrained model sentimentAnalayzer from Vade\n",
    "sid = SentimentIntensityAnalyzer()\n",
    "df_twits['Vader_sent_scores'] = df_twits['twits'].apply(lambda twits: sid.polarity_scores(twits))\n",
    "df_twits['compound']  = df_twits['Vader_sent_scores'].apply(lambda score_dict: score_dict['compound'])\n",
    "#df_twits['neg']  = df_twits['Vader_sent_scores'].apply(lambda score_dict: score_dict['neg'])\n",
    "#df_twits['neu']  = df_twits['Vader_sent_scores'].apply(lambda score_dict: score_dict['neu'])\n",
    "df_twits['vader_sent'] = df_twits['compound'].apply(lambda c: 1 if c >0.1 else -1)"
   ]
  },
  {
   "cell_type": "code",
   "execution_count": 727,
   "id": "alike-december",
   "metadata": {},
   "outputs": [
    {
     "data": {
      "text/html": [
       "<div>\n",
       "<style scoped>\n",
       "    .dataframe tbody tr th:only-of-type {\n",
       "        vertical-align: middle;\n",
       "    }\n",
       "\n",
       "    .dataframe tbody tr th {\n",
       "        vertical-align: top;\n",
       "    }\n",
       "\n",
       "    .dataframe thead th {\n",
       "        text-align: right;\n",
       "    }\n",
       "</style>\n",
       "<table border=\"1\" class=\"dataframe\">\n",
       "  <thead>\n",
       "    <tr style=\"text-align: right;\">\n",
       "      <th></th>\n",
       "      <th>date</th>\n",
       "      <th>user</th>\n",
       "      <th>twits</th>\n",
       "      <th>google_sent</th>\n",
       "      <th>flair_sent</th>\n",
       "      <th>vader_sent</th>\n",
       "    </tr>\n",
       "  </thead>\n",
       "  <tbody>\n",
       "    <tr>\n",
       "      <th>0</th>\n",
       "      <td>3/24/2021 4:49:50 AM</td>\n",
       "      <td>utahstock12</td>\n",
       "      <td>['$ANDA Their site traffic for direct sales wh...</td>\n",
       "      <td>1</td>\n",
       "      <td>1</td>\n",
       "      <td>-1</td>\n",
       "    </tr>\n",
       "    <tr>\n",
       "      <th>1</th>\n",
       "      <td>3/23/2021 10:09:25 PM</td>\n",
       "      <td>dinoshanahan</td>\n",
       "      <td>['$ANDA ASXC This is the future of surgery wit...</td>\n",
       "      <td>1</td>\n",
       "      <td>1</td>\n",
       "      <td>-1</td>\n",
       "    </tr>\n",
       "    <tr>\n",
       "      <th>2</th>\n",
       "      <td>3/18/2021 8:08:27 PM</td>\n",
       "      <td>Tiggers23</td>\n",
       "      <td>['$ANDA stock market has now tanked a couple t...</td>\n",
       "      <td>-1</td>\n",
       "      <td>-1</td>\n",
       "      <td>-1</td>\n",
       "    </tr>\n",
       "    <tr>\n",
       "      <th>3</th>\n",
       "      <td>3/18/2021 5:31:56 PM</td>\n",
       "      <td>gimestocky</td>\n",
       "      <td>['$BENEU so the loss on this sucks right now a...</td>\n",
       "      <td>-1</td>\n",
       "      <td>-1</td>\n",
       "      <td>1</td>\n",
       "    </tr>\n",
       "    <tr>\n",
       "      <th>4</th>\n",
       "      <td>3/17/2021 5:36:28 PM</td>\n",
       "      <td>GreenOnMe</td>\n",
       "      <td>['$ANDA Have a lot of warrants very profitable...</td>\n",
       "      <td>1</td>\n",
       "      <td>1</td>\n",
       "      <td>1</td>\n",
       "    </tr>\n",
       "    <tr>\n",
       "      <th>...</th>\n",
       "      <td>...</td>\n",
       "      <td>...</td>\n",
       "      <td>...</td>\n",
       "      <td>...</td>\n",
       "      <td>...</td>\n",
       "      <td>...</td>\n",
       "    </tr>\n",
       "    <tr>\n",
       "      <th>2732</th>\n",
       "      <td>3/9/2021 12:21:02 PM</td>\n",
       "      <td>FilingsVille</td>\n",
       "      <td>['$ANIK: New SEC filing on EVP, General Counse...</td>\n",
       "      <td>-1</td>\n",
       "      <td>1</td>\n",
       "      <td>-1</td>\n",
       "    </tr>\n",
       "    <tr>\n",
       "      <th>2733</th>\n",
       "      <td>3/8/2021 10:40:41 PM</td>\n",
       "      <td>cctranscripts</td>\n",
       "      <td>['EVP of Anika Therapeutics Inc. just picked u...</td>\n",
       "      <td>-1</td>\n",
       "      <td>-1</td>\n",
       "      <td>1</td>\n",
       "    </tr>\n",
       "    <tr>\n",
       "      <th>2734</th>\n",
       "      <td>3/8/2021 10:23:25 PM</td>\n",
       "      <td>PippoBaudo</td>\n",
       "      <td>['$ANIK 22 by end of the week']</td>\n",
       "      <td>-1</td>\n",
       "      <td>-1</td>\n",
       "      <td>-1</td>\n",
       "    </tr>\n",
       "    <tr>\n",
       "      <th>2735</th>\n",
       "      <td>3/8/2021 10:07:42 PM</td>\n",
       "      <td>fla</td>\n",
       "      <td>['$ANIK [15s. delayed] filed SEC form 4: EVP, ...</td>\n",
       "      <td>1</td>\n",
       "      <td>-1</td>\n",
       "      <td>1</td>\n",
       "    </tr>\n",
       "    <tr>\n",
       "      <th>2736</th>\n",
       "      <td>3/8/2021 10:07:27 PM</td>\n",
       "      <td>Quantisnow</td>\n",
       "      <td>['$ANIK \\\\uD83D\\\\uDCDC SEC Form 4: David Colle...</td>\n",
       "      <td>-1</td>\n",
       "      <td>-1</td>\n",
       "      <td>-1</td>\n",
       "    </tr>\n",
       "  </tbody>\n",
       "</table>\n",
       "<p>2737 rows × 6 columns</p>\n",
       "</div>"
      ],
      "text/plain": [
       "                       date           user  \\\n",
       "0      3/24/2021 4:49:50 AM    utahstock12   \n",
       "1     3/23/2021 10:09:25 PM   dinoshanahan   \n",
       "2      3/18/2021 8:08:27 PM      Tiggers23   \n",
       "3      3/18/2021 5:31:56 PM     gimestocky   \n",
       "4      3/17/2021 5:36:28 PM      GreenOnMe   \n",
       "...                     ...            ...   \n",
       "2732   3/9/2021 12:21:02 PM   FilingsVille   \n",
       "2733   3/8/2021 10:40:41 PM  cctranscripts   \n",
       "2734   3/8/2021 10:23:25 PM     PippoBaudo   \n",
       "2735   3/8/2021 10:07:42 PM            fla   \n",
       "2736   3/8/2021 10:07:27 PM     Quantisnow   \n",
       "\n",
       "                                                  twits  google_sent  \\\n",
       "0     ['$ANDA Their site traffic for direct sales wh...            1   \n",
       "1     ['$ANDA ASXC This is the future of surgery wit...            1   \n",
       "2     ['$ANDA stock market has now tanked a couple t...           -1   \n",
       "3     ['$BENEU so the loss on this sucks right now a...           -1   \n",
       "4     ['$ANDA Have a lot of warrants very profitable...            1   \n",
       "...                                                 ...          ...   \n",
       "2732  ['$ANIK: New SEC filing on EVP, General Counse...           -1   \n",
       "2733  ['EVP of Anika Therapeutics Inc. just picked u...           -1   \n",
       "2734                    ['$ANIK 22 by end of the week']           -1   \n",
       "2735  ['$ANIK [15s. delayed] filed SEC form 4: EVP, ...            1   \n",
       "2736  ['$ANIK \\\\uD83D\\\\uDCDC SEC Form 4: David Colle...           -1   \n",
       "\n",
       "      flair_sent  vader_sent  \n",
       "0              1          -1  \n",
       "1              1          -1  \n",
       "2             -1          -1  \n",
       "3             -1           1  \n",
       "4              1           1  \n",
       "...          ...         ...  \n",
       "2732           1          -1  \n",
       "2733          -1           1  \n",
       "2734          -1          -1  \n",
       "2735          -1           1  \n",
       "2736          -1          -1  \n",
       "\n",
       "[2737 rows x 6 columns]"
      ]
     },
     "execution_count": 727,
     "metadata": {},
     "output_type": "execute_result"
    }
   ],
   "source": [
    "df_twits.drop(columns = ['sentiment', 'Vader_sent_scores', 'compound', 'score'])"
   ]
  },
  {
   "cell_type": "markdown",
   "id": "ordered-sitting",
   "metadata": {},
   "source": [
    "### Data Exploratory Analysis"
   ]
  },
  {
   "cell_type": "code",
   "execution_count": 728,
   "id": "tropical-wesley",
   "metadata": {},
   "outputs": [
    {
     "name": "stdout",
     "output_type": "stream",
     "text": [
      "<class 'pandas.core.frame.DataFrame'>\n",
      "Int64Index: 2737 entries, 0 to 2736\n",
      "Data columns (total 10 columns):\n",
      " #   Column             Non-Null Count  Dtype  \n",
      "---  ------             --------------  -----  \n",
      " 0   date               2737 non-null   object \n",
      " 1   user               2737 non-null   object \n",
      " 2   twits              2737 non-null   object \n",
      " 3   score              2737 non-null   float64\n",
      " 4   google_sent        2737 non-null   int64  \n",
      " 5   sentiment          2737 non-null   object \n",
      " 6   flair_sent         2737 non-null   int64  \n",
      " 7   Vader_sent_scores  2737 non-null   object \n",
      " 8   compound           2737 non-null   float64\n",
      " 9   vader_sent         2737 non-null   int64  \n",
      "dtypes: float64(2), int64(3), object(5)\n",
      "memory usage: 235.2+ KB\n"
     ]
    }
   ],
   "source": [
    "df_twits.info()"
   ]
  },
  {
   "cell_type": "code",
   "execution_count": 729,
   "id": "fifth-appendix",
   "metadata": {},
   "outputs": [],
   "source": [
    "from datetime import datetime as dt\n",
    "df_twits['date']= pd.to_datetime(df_twits['date'])\n",
    "#df_twits = df_twits.set_index('date')"
   ]
  },
  {
   "cell_type": "code",
   "execution_count": 730,
   "id": "opponent-pointer",
   "metadata": {},
   "outputs": [
    {
     "name": "stderr",
     "output_type": "stream",
     "text": [
      "/opt/anaconda3/envs/Python37/lib/python3.7/site-packages/ipykernel_launcher.py:4: FutureWarning: Series.dt.weekofyear and Series.dt.week have been deprecated.  Please use Series.dt.isocalendar().week instead.\n",
      "  after removing the cwd from sys.path.\n"
     ]
    }
   ],
   "source": [
    "df_twits['Month'] = df_twits['date'].dt.month\n",
    "df_twits['day'] = df_twits['date'].dt.day\n",
    "df_twits['year'] = df_twits['date'].dt.year\n",
    "df_twits['week'] = df_twits['date'].dt.week"
   ]
  },
  {
   "cell_type": "code",
   "execution_count": 731,
   "id": "downtown-shelf",
   "metadata": {},
   "outputs": [
    {
     "data": {
      "text/html": [
       "<div>\n",
       "<style scoped>\n",
       "    .dataframe tbody tr th:only-of-type {\n",
       "        vertical-align: middle;\n",
       "    }\n",
       "\n",
       "    .dataframe tbody tr th {\n",
       "        vertical-align: top;\n",
       "    }\n",
       "\n",
       "    .dataframe thead th {\n",
       "        text-align: right;\n",
       "    }\n",
       "</style>\n",
       "<table border=\"1\" class=\"dataframe\">\n",
       "  <thead>\n",
       "    <tr style=\"text-align: right;\">\n",
       "      <th></th>\n",
       "      <th>date</th>\n",
       "      <th>user</th>\n",
       "      <th>twits</th>\n",
       "      <th>score</th>\n",
       "      <th>google_sent</th>\n",
       "      <th>sentiment</th>\n",
       "      <th>flair_sent</th>\n",
       "      <th>Vader_sent_scores</th>\n",
       "      <th>compound</th>\n",
       "      <th>vader_sent</th>\n",
       "      <th>Month</th>\n",
       "      <th>day</th>\n",
       "      <th>year</th>\n",
       "      <th>week</th>\n",
       "    </tr>\n",
       "  </thead>\n",
       "  <tbody>\n",
       "    <tr>\n",
       "      <th>972</th>\n",
       "      <td>2021-03-24 19:45:02</td>\n",
       "      <td>declanaidan</td>\n",
       "      <td>['$AMRN At this pps, Amarin might as well fire...</td>\n",
       "      <td>0.50</td>\n",
       "      <td>-1</td>\n",
       "      <td>NEGATIVE</td>\n",
       "      <td>-1</td>\n",
       "      <td>{'neg': 0.067, 'neu': 0.758, 'pos': 0.174, 'co...</td>\n",
       "      <td>0.4215</td>\n",
       "      <td>1</td>\n",
       "      <td>3</td>\n",
       "      <td>24</td>\n",
       "      <td>2021</td>\n",
       "      <td>12</td>\n",
       "    </tr>\n",
       "    <tr>\n",
       "      <th>1099</th>\n",
       "      <td>2021-03-22 22:32:54</td>\n",
       "      <td>fla</td>\n",
       "      <td>['$AMGN [15s. delayed] filed SEC form 4: Insid...</td>\n",
       "      <td>0.50</td>\n",
       "      <td>-1</td>\n",
       "      <td>NEGATIVE</td>\n",
       "      <td>-1</td>\n",
       "      <td>{'neg': 0.0, 'neu': 0.909, 'pos': 0.091, 'comp...</td>\n",
       "      <td>0.2960</td>\n",
       "      <td>1</td>\n",
       "      <td>3</td>\n",
       "      <td>22</td>\n",
       "      <td>2021</td>\n",
       "      <td>12</td>\n",
       "    </tr>\n",
       "    <tr>\n",
       "      <th>313</th>\n",
       "      <td>2021-03-19 18:52:52</td>\n",
       "      <td>Insider_Analysis</td>\n",
       "      <td>['$AMBA Christopher Day sold 10,201 shares [Ve...</td>\n",
       "      <td>0.50</td>\n",
       "      <td>-1</td>\n",
       "      <td>NEGATIVE</td>\n",
       "      <td>-1</td>\n",
       "      <td>{'neg': 0.0, 'neu': 0.804, 'pos': 0.196, 'comp...</td>\n",
       "      <td>0.2960</td>\n",
       "      <td>1</td>\n",
       "      <td>3</td>\n",
       "      <td>19</td>\n",
       "      <td>2021</td>\n",
       "      <td>11</td>\n",
       "    </tr>\n",
       "    <tr>\n",
       "      <th>2680</th>\n",
       "      <td>2021-03-24 20:59:14</td>\n",
       "      <td>CBale</td>\n",
       "      <td>['$AMD Hi my name is Joe, what\\\\u2019s yours?']</td>\n",
       "      <td>0.50</td>\n",
       "      <td>-1</td>\n",
       "      <td>NEGATIVE</td>\n",
       "      <td>-1</td>\n",
       "      <td>{'neg': 0.0, 'neu': 1.0, 'pos': 0.0, 'compound...</td>\n",
       "      <td>0.0000</td>\n",
       "      <td>-1</td>\n",
       "      <td>3</td>\n",
       "      <td>24</td>\n",
       "      <td>2021</td>\n",
       "      <td>12</td>\n",
       "    </tr>\n",
       "    <tr>\n",
       "      <th>1672</th>\n",
       "      <td>2021-03-23 22:12:21</td>\n",
       "      <td>edison67</td>\n",
       "      <td>['$AMSWA ASXC This is the future of surgery wi...</td>\n",
       "      <td>0.75</td>\n",
       "      <td>1</td>\n",
       "      <td>POSITIVE</td>\n",
       "      <td>1</td>\n",
       "      <td>{'neg': 0.053, 'neu': 0.889, 'pos': 0.058, 'co...</td>\n",
       "      <td>0.0516</td>\n",
       "      <td>-1</td>\n",
       "      <td>3</td>\n",
       "      <td>23</td>\n",
       "      <td>2021</td>\n",
       "      <td>12</td>\n",
       "    </tr>\n",
       "    <tr>\n",
       "      <th>1396</th>\n",
       "      <td>2019-03-01 06:39:52</td>\n",
       "      <td>DividendBot</td>\n",
       "      <td>['In terms of negatives for $ANCX, there are 3...</td>\n",
       "      <td>0.35</td>\n",
       "      <td>-1</td>\n",
       "      <td>NEGATIVE</td>\n",
       "      <td>-1</td>\n",
       "      <td>{'neg': 0.0, 'neu': 1.0, 'pos': 0.0, 'compound...</td>\n",
       "      <td>0.0000</td>\n",
       "      <td>-1</td>\n",
       "      <td>3</td>\n",
       "      <td>1</td>\n",
       "      <td>2019</td>\n",
       "      <td>9</td>\n",
       "    </tr>\n",
       "    <tr>\n",
       "      <th>1587</th>\n",
       "      <td>2021-03-23 20:00:05</td>\n",
       "      <td>TradeWithAlerts</td>\n",
       "      <td>['Large Print $AM Size: 241100 Price: 8.55 Tim...</td>\n",
       "      <td>0.50</td>\n",
       "      <td>-1</td>\n",
       "      <td>NEGATIVE</td>\n",
       "      <td>-1</td>\n",
       "      <td>{'neg': 0.0, 'neu': 1.0, 'pos': 0.0, 'compound...</td>\n",
       "      <td>0.0000</td>\n",
       "      <td>-1</td>\n",
       "      <td>3</td>\n",
       "      <td>23</td>\n",
       "      <td>2021</td>\n",
       "      <td>12</td>\n",
       "    </tr>\n",
       "    <tr>\n",
       "      <th>97</th>\n",
       "      <td>2021-03-22 18:18:49</td>\n",
       "      <td>EMILY_TRADES</td>\n",
       "      <td>['\\\\uD83D\\\\uDCC8 Scan as of 1:00pm CST \\\\u201C...</td>\n",
       "      <td>0.45</td>\n",
       "      <td>-1</td>\n",
       "      <td>NEGATIVE</td>\n",
       "      <td>-1</td>\n",
       "      <td>{'neg': 0.0, 'neu': 0.889, 'pos': 0.111, 'comp...</td>\n",
       "      <td>0.4588</td>\n",
       "      <td>1</td>\n",
       "      <td>3</td>\n",
       "      <td>22</td>\n",
       "      <td>2021</td>\n",
       "      <td>12</td>\n",
       "    </tr>\n",
       "    <tr>\n",
       "      <th>2055</th>\n",
       "      <td>2020-08-07 18:07:55</td>\n",
       "      <td>dividdan</td>\n",
       "      <td>['$AMAP $AMZN $TARG $CODX slap the ask of XELA']</td>\n",
       "      <td>0.50</td>\n",
       "      <td>-1</td>\n",
       "      <td>NEGATIVE</td>\n",
       "      <td>-1</td>\n",
       "      <td>{'neg': 0.0, 'neu': 0.833, 'pos': 0.167, 'comp...</td>\n",
       "      <td>0.1531</td>\n",
       "      <td>1</td>\n",
       "      <td>8</td>\n",
       "      <td>7</td>\n",
       "      <td>2020</td>\n",
       "      <td>32</td>\n",
       "    </tr>\n",
       "    <tr>\n",
       "      <th>2637</th>\n",
       "      <td>2021-03-01 22:34:34</td>\n",
       "      <td>CZARBETS</td>\n",
       "      <td>['$AMS institutional ownership down 0.4% from ...</td>\n",
       "      <td>0.50</td>\n",
       "      <td>-1</td>\n",
       "      <td>NEGATIVE</td>\n",
       "      <td>-1</td>\n",
       "      <td>{'neg': 0.0, 'neu': 1.0, 'pos': 0.0, 'compound...</td>\n",
       "      <td>0.0000</td>\n",
       "      <td>-1</td>\n",
       "      <td>3</td>\n",
       "      <td>1</td>\n",
       "      <td>2021</td>\n",
       "      <td>9</td>\n",
       "    </tr>\n",
       "    <tr>\n",
       "      <th>2656</th>\n",
       "      <td>2021-03-22 20:38:55</td>\n",
       "      <td>Newsfilter</td>\n",
       "      <td>['$ANH Mielle Dominique (Director) sold new se...</td>\n",
       "      <td>0.50</td>\n",
       "      <td>-1</td>\n",
       "      <td>NEGATIVE</td>\n",
       "      <td>-1</td>\n",
       "      <td>{'neg': 0.0, 'neu': 0.872, 'pos': 0.128, 'comp...</td>\n",
       "      <td>0.2960</td>\n",
       "      <td>1</td>\n",
       "      <td>3</td>\n",
       "      <td>22</td>\n",
       "      <td>2021</td>\n",
       "      <td>12</td>\n",
       "    </tr>\n",
       "    <tr>\n",
       "      <th>2720</th>\n",
       "      <td>2021-03-11 22:11:19</td>\n",
       "      <td>Quantisnow</td>\n",
       "      <td>['$ANIK \\\\uD83D\\\\uDCDC SEC Form 4 filed by Tho...</td>\n",
       "      <td>0.50</td>\n",
       "      <td>-1</td>\n",
       "      <td>POSITIVE</td>\n",
       "      <td>1</td>\n",
       "      <td>{'neg': 0.0, 'neu': 1.0, 'pos': 0.0, 'compound...</td>\n",
       "      <td>0.0000</td>\n",
       "      <td>-1</td>\n",
       "      <td>3</td>\n",
       "      <td>11</td>\n",
       "      <td>2021</td>\n",
       "      <td>10</td>\n",
       "    </tr>\n",
       "    <tr>\n",
       "      <th>1207</th>\n",
       "      <td>2021-02-19 10:48:33</td>\n",
       "      <td>Tooper</td>\n",
       "      <td>['$ANTH I&amp;#39', 'm buying a ton of shares.  I ...</td>\n",
       "      <td>0.55</td>\n",
       "      <td>1</td>\n",
       "      <td>NEGATIVE</td>\n",
       "      <td>-1</td>\n",
       "      <td>{'neg': 0.0, 'neu': 0.891, 'pos': 0.109, 'comp...</td>\n",
       "      <td>0.2960</td>\n",
       "      <td>1</td>\n",
       "      <td>2</td>\n",
       "      <td>19</td>\n",
       "      <td>2021</td>\n",
       "      <td>7</td>\n",
       "    </tr>\n",
       "    <tr>\n",
       "      <th>655</th>\n",
       "      <td>2020-07-07 23:36:06</td>\n",
       "      <td>AC_TRADER</td>\n",
       "      <td>['WATCH LIST FOR 7-8-2020 &amp;quot', 'MICRO CAPS&amp;...</td>\n",
       "      <td>0.50</td>\n",
       "      <td>-1</td>\n",
       "      <td>POSITIVE</td>\n",
       "      <td>1</td>\n",
       "      <td>{'neg': 0.0, 'neu': 1.0, 'pos': 0.0, 'compound...</td>\n",
       "      <td>0.0000</td>\n",
       "      <td>-1</td>\n",
       "      <td>7</td>\n",
       "      <td>7</td>\n",
       "      <td>2020</td>\n",
       "      <td>28</td>\n",
       "    </tr>\n",
       "    <tr>\n",
       "      <th>2145</th>\n",
       "      <td>2021-03-03 12:43:56</td>\n",
       "      <td>dividendinvestorbyeagle</td>\n",
       "      <td>['$AOK announced a dividend (iShares Core Cons...</td>\n",
       "      <td>0.50</td>\n",
       "      <td>-1</td>\n",
       "      <td>NEGATIVE</td>\n",
       "      <td>-1</td>\n",
       "      <td>{'neg': 0.0, 'neu': 1.0, 'pos': 0.0, 'compound...</td>\n",
       "      <td>0.0000</td>\n",
       "      <td>-1</td>\n",
       "      <td>3</td>\n",
       "      <td>3</td>\n",
       "      <td>2021</td>\n",
       "      <td>9</td>\n",
       "    </tr>\n",
       "    <tr>\n",
       "      <th>31</th>\n",
       "      <td>2021-02-09 22:41:02</td>\n",
       "      <td>ABN_Newswire</td>\n",
       "      <td>['Anatara Lifesciences Ltd (ASX:ANR) Completio...</td>\n",
       "      <td>0.50</td>\n",
       "      <td>-1</td>\n",
       "      <td>NEGATIVE</td>\n",
       "      <td>-1</td>\n",
       "      <td>{'neg': 0.0, 'neu': 0.833, 'pos': 0.167, 'comp...</td>\n",
       "      <td>0.2960</td>\n",
       "      <td>1</td>\n",
       "      <td>2</td>\n",
       "      <td>9</td>\n",
       "      <td>2021</td>\n",
       "      <td>6</td>\n",
       "    </tr>\n",
       "    <tr>\n",
       "      <th>2663</th>\n",
       "      <td>2021-03-22 20:27:07</td>\n",
       "      <td>fla</td>\n",
       "      <td>['$ANH [15s. delayed] filed SEC form 4: Direct...</td>\n",
       "      <td>0.50</td>\n",
       "      <td>-1</td>\n",
       "      <td>NEGATIVE</td>\n",
       "      <td>-1</td>\n",
       "      <td>{'neg': 0.0, 'neu': 1.0, 'pos': 0.0, 'compound...</td>\n",
       "      <td>0.0000</td>\n",
       "      <td>-1</td>\n",
       "      <td>3</td>\n",
       "      <td>22</td>\n",
       "      <td>2021</td>\n",
       "      <td>12</td>\n",
       "    </tr>\n",
       "    <tr>\n",
       "      <th>1816</th>\n",
       "      <td>2021-02-13 02:41:00</td>\n",
       "      <td>ChartMill</td>\n",
       "      <td>['$AMRB was analyzed by 2 analysts. The buy co...</td>\n",
       "      <td>0.70</td>\n",
       "      <td>1</td>\n",
       "      <td>NEGATIVE</td>\n",
       "      <td>-1</td>\n",
       "      <td>{'neg': 0.0, 'neu': 0.868, 'pos': 0.132, 'comp...</td>\n",
       "      <td>0.5413</td>\n",
       "      <td>1</td>\n",
       "      <td>2</td>\n",
       "      <td>13</td>\n",
       "      <td>2021</td>\n",
       "      <td>6</td>\n",
       "    </tr>\n",
       "    <tr>\n",
       "      <th>1595</th>\n",
       "      <td>2021-03-22 12:25:07</td>\n",
       "      <td>Stockhoot</td>\n",
       "      <td>['$AM Morgan Stanley Maintains to Underweight ...</td>\n",
       "      <td>0.50</td>\n",
       "      <td>-1</td>\n",
       "      <td>NEGATIVE</td>\n",
       "      <td>-1</td>\n",
       "      <td>{'neg': 0.0, 'neu': 1.0, 'pos': 0.0, 'compound...</td>\n",
       "      <td>0.0000</td>\n",
       "      <td>-1</td>\n",
       "      <td>3</td>\n",
       "      <td>22</td>\n",
       "      <td>2021</td>\n",
       "      <td>12</td>\n",
       "    </tr>\n",
       "    <tr>\n",
       "      <th>1185</th>\n",
       "      <td>2015-08-10 22:06:16</td>\n",
       "      <td>kcphaeton</td>\n",
       "      <td>['$MNKD Back in Jan 2014 $SNY invested in $ANL...</td>\n",
       "      <td>0.45</td>\n",
       "      <td>-1</td>\n",
       "      <td>NEGATIVE</td>\n",
       "      <td>-1</td>\n",
       "      <td>{'neg': 0.0, 'neu': 1.0, 'pos': 0.0, 'compound...</td>\n",
       "      <td>0.0000</td>\n",
       "      <td>-1</td>\n",
       "      <td>8</td>\n",
       "      <td>10</td>\n",
       "      <td>2015</td>\n",
       "      <td>33</td>\n",
       "    </tr>\n",
       "    <tr>\n",
       "      <th>164</th>\n",
       "      <td>2021-03-20 02:59:41</td>\n",
       "      <td>Insider_Analysis</td>\n",
       "      <td>['$AMH Bryan Smith sold 8,078 shares [Low Conv...</td>\n",
       "      <td>0.50</td>\n",
       "      <td>-1</td>\n",
       "      <td>NEGATIVE</td>\n",
       "      <td>-1</td>\n",
       "      <td>{'neg': 0.0, 'neu': 0.784, 'pos': 0.216, 'comp...</td>\n",
       "      <td>0.2960</td>\n",
       "      <td>1</td>\n",
       "      <td>3</td>\n",
       "      <td>20</td>\n",
       "      <td>2021</td>\n",
       "      <td>11</td>\n",
       "    </tr>\n",
       "    <tr>\n",
       "      <th>1363</th>\n",
       "      <td>2018-11-16 19:00:23</td>\n",
       "      <td>InsiderForms</td>\n",
       "      <td>['$ANCB Insider &amp;quot', 'Koch Gary P&amp;quot', ' ...</td>\n",
       "      <td>0.50</td>\n",
       "      <td>-1</td>\n",
       "      <td>NEGATIVE</td>\n",
       "      <td>-1</td>\n",
       "      <td>{'neg': 0.0, 'neu': 0.885, 'pos': 0.115, 'comp...</td>\n",
       "      <td>0.2960</td>\n",
       "      <td>1</td>\n",
       "      <td>11</td>\n",
       "      <td>16</td>\n",
       "      <td>2018</td>\n",
       "      <td>46</td>\n",
       "    </tr>\n",
       "    <tr>\n",
       "      <th>1397</th>\n",
       "      <td>2019-02-28 07:23:07</td>\n",
       "      <td>IcebergBot</td>\n",
       "      <td>['$ANCX Large Trades (Largest Trade: 0.59% of ...</td>\n",
       "      <td>0.50</td>\n",
       "      <td>-1</td>\n",
       "      <td>NEGATIVE</td>\n",
       "      <td>-1</td>\n",
       "      <td>{'neg': 0.0, 'neu': 1.0, 'pos': 0.0, 'compound...</td>\n",
       "      <td>0.0000</td>\n",
       "      <td>-1</td>\n",
       "      <td>2</td>\n",
       "      <td>28</td>\n",
       "      <td>2019</td>\n",
       "      <td>9</td>\n",
       "    </tr>\n",
       "    <tr>\n",
       "      <th>1103</th>\n",
       "      <td>2020-03-13 18:33:22</td>\n",
       "      <td>cctranscripts</td>\n",
       "      <td>['Annual Report for Registered Investment Comp...</td>\n",
       "      <td>0.50</td>\n",
       "      <td>-1</td>\n",
       "      <td>POSITIVE</td>\n",
       "      <td>1</td>\n",
       "      <td>{'neg': 0.0, 'neu': 1.0, 'pos': 0.0, 'compound...</td>\n",
       "      <td>0.0000</td>\n",
       "      <td>-1</td>\n",
       "      <td>3</td>\n",
       "      <td>13</td>\n",
       "      <td>2020</td>\n",
       "      <td>11</td>\n",
       "    </tr>\n",
       "    <tr>\n",
       "      <th>537</th>\n",
       "      <td>2021-03-23 19:20:00</td>\n",
       "      <td>ChartMill</td>\n",
       "      <td>['$AOS, $BERY and $HD making a new 52 week hig...</td>\n",
       "      <td>0.60</td>\n",
       "      <td>1</td>\n",
       "      <td>NEGATIVE</td>\n",
       "      <td>-1</td>\n",
       "      <td>{'neg': 0.0, 'neu': 1.0, 'pos': 0.0, 'compound...</td>\n",
       "      <td>0.0000</td>\n",
       "      <td>-1</td>\n",
       "      <td>3</td>\n",
       "      <td>23</td>\n",
       "      <td>2021</td>\n",
       "      <td>12</td>\n",
       "    </tr>\n",
       "    <tr>\n",
       "      <th>1248</th>\n",
       "      <td>2014-11-04 22:43:04</td>\n",
       "      <td>FinancesStocks</td>\n",
       "      <td>['$APAGF Apco Reports Third-Quarter 2014 Resul...</td>\n",
       "      <td>0.55</td>\n",
       "      <td>1</td>\n",
       "      <td>NEGATIVE</td>\n",
       "      <td>-1</td>\n",
       "      <td>{'neg': 0.0, 'neu': 1.0, 'pos': 0.0, 'compound...</td>\n",
       "      <td>0.0000</td>\n",
       "      <td>-1</td>\n",
       "      <td>11</td>\n",
       "      <td>4</td>\n",
       "      <td>2014</td>\n",
       "      <td>45</td>\n",
       "    </tr>\n",
       "    <tr>\n",
       "      <th>1212</th>\n",
       "      <td>2021-02-07 18:58:16</td>\n",
       "      <td>farmland</td>\n",
       "      <td>['$ANTH please stop the odd clips. Respect you...</td>\n",
       "      <td>0.40</td>\n",
       "      <td>-1</td>\n",
       "      <td>NEGATIVE</td>\n",
       "      <td>-1</td>\n",
       "      <td>{'neg': 0.167, 'neu': 0.632, 'pos': 0.201, 'co...</td>\n",
       "      <td>0.2263</td>\n",
       "      <td>1</td>\n",
       "      <td>2</td>\n",
       "      <td>7</td>\n",
       "      <td>2021</td>\n",
       "      <td>5</td>\n",
       "    </tr>\n",
       "    <tr>\n",
       "      <th>914</th>\n",
       "      <td>2021-03-14 14:12:08</td>\n",
       "      <td>Insider_Analysis</td>\n",
       "      <td>['$AMED In the recent reporting quarter: 15.60...</td>\n",
       "      <td>0.15</td>\n",
       "      <td>-1</td>\n",
       "      <td>NEGATIVE</td>\n",
       "      <td>-1</td>\n",
       "      <td>{'neg': 0.128, 'neu': 0.872, 'pos': 0.0, 'comp...</td>\n",
       "      <td>-0.2960</td>\n",
       "      <td>-1</td>\n",
       "      <td>3</td>\n",
       "      <td>14</td>\n",
       "      <td>2021</td>\n",
       "      <td>10</td>\n",
       "    </tr>\n",
       "    <tr>\n",
       "      <th>1393</th>\n",
       "      <td>2019-03-16 16:32:00</td>\n",
       "      <td>IcebergBot</td>\n",
       "      <td>['Big Trade Blocks for $ANCX (Largest Trade: 0...</td>\n",
       "      <td>0.50</td>\n",
       "      <td>-1</td>\n",
       "      <td>NEGATIVE</td>\n",
       "      <td>-1</td>\n",
       "      <td>{'neg': 0.16, 'neu': 0.84, 'pos': 0.0, 'compou...</td>\n",
       "      <td>-0.2263</td>\n",
       "      <td>-1</td>\n",
       "      <td>3</td>\n",
       "      <td>16</td>\n",
       "      <td>2019</td>\n",
       "      <td>11</td>\n",
       "    </tr>\n",
       "    <tr>\n",
       "      <th>2722</th>\n",
       "      <td>2021-03-11 22:09:49</td>\n",
       "      <td>Quantisnow</td>\n",
       "      <td>['$ANIK \\\\uD83D\\\\uDCDC SEC Form 4 filed by Dav...</td>\n",
       "      <td>0.50</td>\n",
       "      <td>-1</td>\n",
       "      <td>POSITIVE</td>\n",
       "      <td>1</td>\n",
       "      <td>{'neg': 0.0, 'neu': 1.0, 'pos': 0.0, 'compound...</td>\n",
       "      <td>0.0000</td>\n",
       "      <td>-1</td>\n",
       "      <td>3</td>\n",
       "      <td>11</td>\n",
       "      <td>2021</td>\n",
       "      <td>10</td>\n",
       "    </tr>\n",
       "    <tr>\n",
       "      <th>2510</th>\n",
       "      <td>2021-01-29 18:42:50</td>\n",
       "      <td>TradeWithAlerts</td>\n",
       "      <td>['Large Print $AOM Size: 281671 Price: 42.98 T...</td>\n",
       "      <td>0.50</td>\n",
       "      <td>-1</td>\n",
       "      <td>POSITIVE</td>\n",
       "      <td>1</td>\n",
       "      <td>{'neg': 0.0, 'neu': 1.0, 'pos': 0.0, 'compound...</td>\n",
       "      <td>0.0000</td>\n",
       "      <td>-1</td>\n",
       "      <td>1</td>\n",
       "      <td>29</td>\n",
       "      <td>2021</td>\n",
       "      <td>4</td>\n",
       "    </tr>\n",
       "    <tr>\n",
       "      <th>742</th>\n",
       "      <td>2021-03-04 21:45:06</td>\n",
       "      <td>CZARBETS</td>\n",
       "      <td>['$APAM Big Trade - $6,666,586\\\\n144,737 share...</td>\n",
       "      <td>0.50</td>\n",
       "      <td>-1</td>\n",
       "      <td>POSITIVE</td>\n",
       "      <td>1</td>\n",
       "      <td>{'neg': 0.0, 'neu': 0.732, 'pos': 0.268, 'comp...</td>\n",
       "      <td>0.2960</td>\n",
       "      <td>1</td>\n",
       "      <td>3</td>\n",
       "      <td>4</td>\n",
       "      <td>2021</td>\n",
       "      <td>9</td>\n",
       "    </tr>\n",
       "    <tr>\n",
       "      <th>2525</th>\n",
       "      <td>2020-10-02 11:07:48</td>\n",
       "      <td>dividendinvestorbyeagle</td>\n",
       "      <td>['$AOM announced a dividend (iShares Core Mode...</td>\n",
       "      <td>0.50</td>\n",
       "      <td>-1</td>\n",
       "      <td>NEGATIVE</td>\n",
       "      <td>-1</td>\n",
       "      <td>{'neg': 0.0, 'neu': 1.0, 'pos': 0.0, 'compound...</td>\n",
       "      <td>0.0000</td>\n",
       "      <td>-1</td>\n",
       "      <td>10</td>\n",
       "      <td>2</td>\n",
       "      <td>2020</td>\n",
       "      <td>40</td>\n",
       "    </tr>\n",
       "    <tr>\n",
       "      <th>1092</th>\n",
       "      <td>2021-03-22 23:48:44</td>\n",
       "      <td>trondisc</td>\n",
       "      <td>['1,480 days since R/S butchery + #Mismanageme...</td>\n",
       "      <td>0.45</td>\n",
       "      <td>-1</td>\n",
       "      <td>NEGATIVE</td>\n",
       "      <td>-1</td>\n",
       "      <td>{'neg': 0.112, 'neu': 0.846, 'pos': 0.042, 'co...</td>\n",
       "      <td>-0.6249</td>\n",
       "      <td>-1</td>\n",
       "      <td>3</td>\n",
       "      <td>22</td>\n",
       "      <td>2021</td>\n",
       "      <td>12</td>\n",
       "    </tr>\n",
       "    <tr>\n",
       "      <th>1337</th>\n",
       "      <td>2017-12-24 10:28:52</td>\n",
       "      <td>macroaxis</td>\n",
       "      <td>['$AMRI - Acquisition by George Svokos of 1458...</td>\n",
       "      <td>0.50</td>\n",
       "      <td>-1</td>\n",
       "      <td>NEGATIVE</td>\n",
       "      <td>-1</td>\n",
       "      <td>{'neg': 0.0, 'neu': 0.885, 'pos': 0.115, 'comp...</td>\n",
       "      <td>0.2960</td>\n",
       "      <td>1</td>\n",
       "      <td>12</td>\n",
       "      <td>24</td>\n",
       "      <td>2017</td>\n",
       "      <td>51</td>\n",
       "    </tr>\n",
       "    <tr>\n",
       "      <th>2586</th>\n",
       "      <td>2021-03-19 14:24:18</td>\n",
       "      <td>jeffytrader</td>\n",
       "      <td>['$CLEU  Watch $AMBO $WAFU']</td>\n",
       "      <td>0.60</td>\n",
       "      <td>1</td>\n",
       "      <td>NEGATIVE</td>\n",
       "      <td>-1</td>\n",
       "      <td>{'neg': 0.0, 'neu': 1.0, 'pos': 0.0, 'compound...</td>\n",
       "      <td>0.0000</td>\n",
       "      <td>-1</td>\n",
       "      <td>3</td>\n",
       "      <td>19</td>\n",
       "      <td>2021</td>\n",
       "      <td>11</td>\n",
       "    </tr>\n",
       "    <tr>\n",
       "      <th>1117</th>\n",
       "      <td>2019-08-28 13:04:12</td>\n",
       "      <td>cctranscripts</td>\n",
       "      <td>['Annual Report of proxy voting record of mana...</td>\n",
       "      <td>0.50</td>\n",
       "      <td>-1</td>\n",
       "      <td>NEGATIVE</td>\n",
       "      <td>-1</td>\n",
       "      <td>{'neg': 0.0, 'neu': 1.0, 'pos': 0.0, 'compound...</td>\n",
       "      <td>0.0000</td>\n",
       "      <td>-1</td>\n",
       "      <td>8</td>\n",
       "      <td>28</td>\n",
       "      <td>2019</td>\n",
       "      <td>35</td>\n",
       "    </tr>\n",
       "    <tr>\n",
       "      <th>1772</th>\n",
       "      <td>2018-01-16 17:14:06</td>\n",
       "      <td>cctranscripts</td>\n",
       "      <td>['Confidential treatment order http://www.conf...</td>\n",
       "      <td>0.50</td>\n",
       "      <td>-1</td>\n",
       "      <td>NEGATIVE</td>\n",
       "      <td>-1</td>\n",
       "      <td>{'neg': 0.0, 'neu': 1.0, 'pos': 0.0, 'compound...</td>\n",
       "      <td>0.0000</td>\n",
       "      <td>-1</td>\n",
       "      <td>1</td>\n",
       "      <td>16</td>\n",
       "      <td>2018</td>\n",
       "      <td>3</td>\n",
       "    </tr>\n",
       "    <tr>\n",
       "      <th>219</th>\n",
       "      <td>2021-03-19 09:41:46</td>\n",
       "      <td>Newsfilter</td>\n",
       "      <td>['$ANGN Angion declares partial waiver of cert...</td>\n",
       "      <td>0.45</td>\n",
       "      <td>-1</td>\n",
       "      <td>NEGATIVE</td>\n",
       "      <td>-1</td>\n",
       "      <td>{'neg': 0.0, 'neu': 0.811, 'pos': 0.189, 'comp...</td>\n",
       "      <td>0.2732</td>\n",
       "      <td>1</td>\n",
       "      <td>3</td>\n",
       "      <td>19</td>\n",
       "      <td>2021</td>\n",
       "      <td>11</td>\n",
       "    </tr>\n",
       "    <tr>\n",
       "      <th>1984</th>\n",
       "      <td>2016-07-29 16:07:12</td>\n",
       "      <td>TheStreet</td>\n",
       "      <td>['3 Sell-Rated Dividend Stocks: AMTG, CCLP, US...</td>\n",
       "      <td>0.50</td>\n",
       "      <td>-1</td>\n",
       "      <td>NEGATIVE</td>\n",
       "      <td>-1</td>\n",
       "      <td>{'neg': 0.0, 'neu': 1.0, 'pos': 0.0, 'compound...</td>\n",
       "      <td>0.0000</td>\n",
       "      <td>-1</td>\n",
       "      <td>7</td>\n",
       "      <td>29</td>\n",
       "      <td>2016</td>\n",
       "      <td>30</td>\n",
       "    </tr>\n",
       "  </tbody>\n",
       "</table>\n",
       "</div>"
      ],
      "text/plain": [
       "                    date                     user  \\\n",
       "972  2021-03-24 19:45:02              declanaidan   \n",
       "1099 2021-03-22 22:32:54                      fla   \n",
       "313  2021-03-19 18:52:52         Insider_Analysis   \n",
       "2680 2021-03-24 20:59:14                    CBale   \n",
       "1672 2021-03-23 22:12:21                 edison67   \n",
       "1396 2019-03-01 06:39:52              DividendBot   \n",
       "1587 2021-03-23 20:00:05          TradeWithAlerts   \n",
       "97   2021-03-22 18:18:49             EMILY_TRADES   \n",
       "2055 2020-08-07 18:07:55                 dividdan   \n",
       "2637 2021-03-01 22:34:34                 CZARBETS   \n",
       "2656 2021-03-22 20:38:55               Newsfilter   \n",
       "2720 2021-03-11 22:11:19               Quantisnow   \n",
       "1207 2021-02-19 10:48:33                   Tooper   \n",
       "655  2020-07-07 23:36:06                AC_TRADER   \n",
       "2145 2021-03-03 12:43:56  dividendinvestorbyeagle   \n",
       "31   2021-02-09 22:41:02             ABN_Newswire   \n",
       "2663 2021-03-22 20:27:07                      fla   \n",
       "1816 2021-02-13 02:41:00                ChartMill   \n",
       "1595 2021-03-22 12:25:07                Stockhoot   \n",
       "1185 2015-08-10 22:06:16                kcphaeton   \n",
       "164  2021-03-20 02:59:41         Insider_Analysis   \n",
       "1363 2018-11-16 19:00:23             InsiderForms   \n",
       "1397 2019-02-28 07:23:07               IcebergBot   \n",
       "1103 2020-03-13 18:33:22            cctranscripts   \n",
       "537  2021-03-23 19:20:00                ChartMill   \n",
       "1248 2014-11-04 22:43:04           FinancesStocks   \n",
       "1212 2021-02-07 18:58:16                 farmland   \n",
       "914  2021-03-14 14:12:08         Insider_Analysis   \n",
       "1393 2019-03-16 16:32:00               IcebergBot   \n",
       "2722 2021-03-11 22:09:49               Quantisnow   \n",
       "2510 2021-01-29 18:42:50          TradeWithAlerts   \n",
       "742  2021-03-04 21:45:06                 CZARBETS   \n",
       "2525 2020-10-02 11:07:48  dividendinvestorbyeagle   \n",
       "1092 2021-03-22 23:48:44                 trondisc   \n",
       "1337 2017-12-24 10:28:52                macroaxis   \n",
       "2586 2021-03-19 14:24:18              jeffytrader   \n",
       "1117 2019-08-28 13:04:12            cctranscripts   \n",
       "1772 2018-01-16 17:14:06            cctranscripts   \n",
       "219  2021-03-19 09:41:46               Newsfilter   \n",
       "1984 2016-07-29 16:07:12                TheStreet   \n",
       "\n",
       "                                                  twits  score  google_sent  \\\n",
       "972   ['$AMRN At this pps, Amarin might as well fire...   0.50           -1   \n",
       "1099  ['$AMGN [15s. delayed] filed SEC form 4: Insid...   0.50           -1   \n",
       "313   ['$AMBA Christopher Day sold 10,201 shares [Ve...   0.50           -1   \n",
       "2680    ['$AMD Hi my name is Joe, what\\\\u2019s yours?']   0.50           -1   \n",
       "1672  ['$AMSWA ASXC This is the future of surgery wi...   0.75            1   \n",
       "1396  ['In terms of negatives for $ANCX, there are 3...   0.35           -1   \n",
       "1587  ['Large Print $AM Size: 241100 Price: 8.55 Tim...   0.50           -1   \n",
       "97    ['\\\\uD83D\\\\uDCC8 Scan as of 1:00pm CST \\\\u201C...   0.45           -1   \n",
       "2055   ['$AMAP $AMZN $TARG $CODX slap the ask of XELA']   0.50           -1   \n",
       "2637  ['$AMS institutional ownership down 0.4% from ...   0.50           -1   \n",
       "2656  ['$ANH Mielle Dominique (Director) sold new se...   0.50           -1   \n",
       "2720  ['$ANIK \\\\uD83D\\\\uDCDC SEC Form 4 filed by Tho...   0.50           -1   \n",
       "1207  ['$ANTH I&#39', 'm buying a ton of shares.  I ...   0.55            1   \n",
       "655   ['WATCH LIST FOR 7-8-2020 &quot', 'MICRO CAPS&...   0.50           -1   \n",
       "2145  ['$AOK announced a dividend (iShares Core Cons...   0.50           -1   \n",
       "31    ['Anatara Lifesciences Ltd (ASX:ANR) Completio...   0.50           -1   \n",
       "2663  ['$ANH [15s. delayed] filed SEC form 4: Direct...   0.50           -1   \n",
       "1816  ['$AMRB was analyzed by 2 analysts. The buy co...   0.70            1   \n",
       "1595  ['$AM Morgan Stanley Maintains to Underweight ...   0.50           -1   \n",
       "1185  ['$MNKD Back in Jan 2014 $SNY invested in $ANL...   0.45           -1   \n",
       "164   ['$AMH Bryan Smith sold 8,078 shares [Low Conv...   0.50           -1   \n",
       "1363  ['$ANCB Insider &quot', 'Koch Gary P&quot', ' ...   0.50           -1   \n",
       "1397  ['$ANCX Large Trades (Largest Trade: 0.59% of ...   0.50           -1   \n",
       "1103  ['Annual Report for Registered Investment Comp...   0.50           -1   \n",
       "537   ['$AOS, $BERY and $HD making a new 52 week hig...   0.60            1   \n",
       "1248  ['$APAGF Apco Reports Third-Quarter 2014 Resul...   0.55            1   \n",
       "1212  ['$ANTH please stop the odd clips. Respect you...   0.40           -1   \n",
       "914   ['$AMED In the recent reporting quarter: 15.60...   0.15           -1   \n",
       "1393  ['Big Trade Blocks for $ANCX (Largest Trade: 0...   0.50           -1   \n",
       "2722  ['$ANIK \\\\uD83D\\\\uDCDC SEC Form 4 filed by Dav...   0.50           -1   \n",
       "2510  ['Large Print $AOM Size: 281671 Price: 42.98 T...   0.50           -1   \n",
       "742   ['$APAM Big Trade - $6,666,586\\\\n144,737 share...   0.50           -1   \n",
       "2525  ['$AOM announced a dividend (iShares Core Mode...   0.50           -1   \n",
       "1092  ['1,480 days since R/S butchery + #Mismanageme...   0.45           -1   \n",
       "1337  ['$AMRI - Acquisition by George Svokos of 1458...   0.50           -1   \n",
       "2586                       ['$CLEU  Watch $AMBO $WAFU']   0.60            1   \n",
       "1117  ['Annual Report of proxy voting record of mana...   0.50           -1   \n",
       "1772  ['Confidential treatment order http://www.conf...   0.50           -1   \n",
       "219   ['$ANGN Angion declares partial waiver of cert...   0.45           -1   \n",
       "1984  ['3 Sell-Rated Dividend Stocks: AMTG, CCLP, US...   0.50           -1   \n",
       "\n",
       "     sentiment  flair_sent                                  Vader_sent_scores  \\\n",
       "972   NEGATIVE          -1  {'neg': 0.067, 'neu': 0.758, 'pos': 0.174, 'co...   \n",
       "1099  NEGATIVE          -1  {'neg': 0.0, 'neu': 0.909, 'pos': 0.091, 'comp...   \n",
       "313   NEGATIVE          -1  {'neg': 0.0, 'neu': 0.804, 'pos': 0.196, 'comp...   \n",
       "2680  NEGATIVE          -1  {'neg': 0.0, 'neu': 1.0, 'pos': 0.0, 'compound...   \n",
       "1672  POSITIVE           1  {'neg': 0.053, 'neu': 0.889, 'pos': 0.058, 'co...   \n",
       "1396  NEGATIVE          -1  {'neg': 0.0, 'neu': 1.0, 'pos': 0.0, 'compound...   \n",
       "1587  NEGATIVE          -1  {'neg': 0.0, 'neu': 1.0, 'pos': 0.0, 'compound...   \n",
       "97    NEGATIVE          -1  {'neg': 0.0, 'neu': 0.889, 'pos': 0.111, 'comp...   \n",
       "2055  NEGATIVE          -1  {'neg': 0.0, 'neu': 0.833, 'pos': 0.167, 'comp...   \n",
       "2637  NEGATIVE          -1  {'neg': 0.0, 'neu': 1.0, 'pos': 0.0, 'compound...   \n",
       "2656  NEGATIVE          -1  {'neg': 0.0, 'neu': 0.872, 'pos': 0.128, 'comp...   \n",
       "2720  POSITIVE           1  {'neg': 0.0, 'neu': 1.0, 'pos': 0.0, 'compound...   \n",
       "1207  NEGATIVE          -1  {'neg': 0.0, 'neu': 0.891, 'pos': 0.109, 'comp...   \n",
       "655   POSITIVE           1  {'neg': 0.0, 'neu': 1.0, 'pos': 0.0, 'compound...   \n",
       "2145  NEGATIVE          -1  {'neg': 0.0, 'neu': 1.0, 'pos': 0.0, 'compound...   \n",
       "31    NEGATIVE          -1  {'neg': 0.0, 'neu': 0.833, 'pos': 0.167, 'comp...   \n",
       "2663  NEGATIVE          -1  {'neg': 0.0, 'neu': 1.0, 'pos': 0.0, 'compound...   \n",
       "1816  NEGATIVE          -1  {'neg': 0.0, 'neu': 0.868, 'pos': 0.132, 'comp...   \n",
       "1595  NEGATIVE          -1  {'neg': 0.0, 'neu': 1.0, 'pos': 0.0, 'compound...   \n",
       "1185  NEGATIVE          -1  {'neg': 0.0, 'neu': 1.0, 'pos': 0.0, 'compound...   \n",
       "164   NEGATIVE          -1  {'neg': 0.0, 'neu': 0.784, 'pos': 0.216, 'comp...   \n",
       "1363  NEGATIVE          -1  {'neg': 0.0, 'neu': 0.885, 'pos': 0.115, 'comp...   \n",
       "1397  NEGATIVE          -1  {'neg': 0.0, 'neu': 1.0, 'pos': 0.0, 'compound...   \n",
       "1103  POSITIVE           1  {'neg': 0.0, 'neu': 1.0, 'pos': 0.0, 'compound...   \n",
       "537   NEGATIVE          -1  {'neg': 0.0, 'neu': 1.0, 'pos': 0.0, 'compound...   \n",
       "1248  NEGATIVE          -1  {'neg': 0.0, 'neu': 1.0, 'pos': 0.0, 'compound...   \n",
       "1212  NEGATIVE          -1  {'neg': 0.167, 'neu': 0.632, 'pos': 0.201, 'co...   \n",
       "914   NEGATIVE          -1  {'neg': 0.128, 'neu': 0.872, 'pos': 0.0, 'comp...   \n",
       "1393  NEGATIVE          -1  {'neg': 0.16, 'neu': 0.84, 'pos': 0.0, 'compou...   \n",
       "2722  POSITIVE           1  {'neg': 0.0, 'neu': 1.0, 'pos': 0.0, 'compound...   \n",
       "2510  POSITIVE           1  {'neg': 0.0, 'neu': 1.0, 'pos': 0.0, 'compound...   \n",
       "742   POSITIVE           1  {'neg': 0.0, 'neu': 0.732, 'pos': 0.268, 'comp...   \n",
       "2525  NEGATIVE          -1  {'neg': 0.0, 'neu': 1.0, 'pos': 0.0, 'compound...   \n",
       "1092  NEGATIVE          -1  {'neg': 0.112, 'neu': 0.846, 'pos': 0.042, 'co...   \n",
       "1337  NEGATIVE          -1  {'neg': 0.0, 'neu': 0.885, 'pos': 0.115, 'comp...   \n",
       "2586  NEGATIVE          -1  {'neg': 0.0, 'neu': 1.0, 'pos': 0.0, 'compound...   \n",
       "1117  NEGATIVE          -1  {'neg': 0.0, 'neu': 1.0, 'pos': 0.0, 'compound...   \n",
       "1772  NEGATIVE          -1  {'neg': 0.0, 'neu': 1.0, 'pos': 0.0, 'compound...   \n",
       "219   NEGATIVE          -1  {'neg': 0.0, 'neu': 0.811, 'pos': 0.189, 'comp...   \n",
       "1984  NEGATIVE          -1  {'neg': 0.0, 'neu': 1.0, 'pos': 0.0, 'compound...   \n",
       "\n",
       "      compound  vader_sent  Month  day  year  week  \n",
       "972     0.4215           1      3   24  2021    12  \n",
       "1099    0.2960           1      3   22  2021    12  \n",
       "313     0.2960           1      3   19  2021    11  \n",
       "2680    0.0000          -1      3   24  2021    12  \n",
       "1672    0.0516          -1      3   23  2021    12  \n",
       "1396    0.0000          -1      3    1  2019     9  \n",
       "1587    0.0000          -1      3   23  2021    12  \n",
       "97      0.4588           1      3   22  2021    12  \n",
       "2055    0.1531           1      8    7  2020    32  \n",
       "2637    0.0000          -1      3    1  2021     9  \n",
       "2656    0.2960           1      3   22  2021    12  \n",
       "2720    0.0000          -1      3   11  2021    10  \n",
       "1207    0.2960           1      2   19  2021     7  \n",
       "655     0.0000          -1      7    7  2020    28  \n",
       "2145    0.0000          -1      3    3  2021     9  \n",
       "31      0.2960           1      2    9  2021     6  \n",
       "2663    0.0000          -1      3   22  2021    12  \n",
       "1816    0.5413           1      2   13  2021     6  \n",
       "1595    0.0000          -1      3   22  2021    12  \n",
       "1185    0.0000          -1      8   10  2015    33  \n",
       "164     0.2960           1      3   20  2021    11  \n",
       "1363    0.2960           1     11   16  2018    46  \n",
       "1397    0.0000          -1      2   28  2019     9  \n",
       "1103    0.0000          -1      3   13  2020    11  \n",
       "537     0.0000          -1      3   23  2021    12  \n",
       "1248    0.0000          -1     11    4  2014    45  \n",
       "1212    0.2263           1      2    7  2021     5  \n",
       "914    -0.2960          -1      3   14  2021    10  \n",
       "1393   -0.2263          -1      3   16  2019    11  \n",
       "2722    0.0000          -1      3   11  2021    10  \n",
       "2510    0.0000          -1      1   29  2021     4  \n",
       "742     0.2960           1      3    4  2021     9  \n",
       "2525    0.0000          -1     10    2  2020    40  \n",
       "1092   -0.6249          -1      3   22  2021    12  \n",
       "1337    0.2960           1     12   24  2017    51  \n",
       "2586    0.0000          -1      3   19  2021    11  \n",
       "1117    0.0000          -1      8   28  2019    35  \n",
       "1772    0.0000          -1      1   16  2018     3  \n",
       "219     0.2732           1      3   19  2021    11  \n",
       "1984    0.0000          -1      7   29  2016    30  "
      ]
     },
     "execution_count": 731,
     "metadata": {},
     "output_type": "execute_result"
    }
   ],
   "source": [
    "df_twits.sample(40)"
   ]
  },
  {
   "cell_type": "markdown",
   "id": "democratic-cologne",
   "metadata": {},
   "source": [
    "Do the time series analysis to see the different in sentiment analysis for three different model. "
   ]
  },
  {
   "cell_type": "markdown",
   "id": "mental-worship",
   "metadata": {},
   "source": [
    "#### Evaluate the sentimental for google, vader and flair for different years"
   ]
  },
  {
   "cell_type": "code",
   "execution_count": 754,
   "id": "center-emergency",
   "metadata": {},
   "outputs": [
    {
     "data": {
      "text/plain": [
       "Text(0, 0.5, 'Average sentiment')"
      ]
     },
     "execution_count": 754,
     "metadata": {},
     "output_type": "execute_result"
    },
    {
     "data": {
      "image/png": "[encoded data removed]",
      "text/plain": [
       "<Figure size 432x288 with 1 Axes>"
      ]
     },
     "metadata": {
      "needs_background": "light"
     },
     "output_type": "display_data"
    }
   ],
   "source": [
    "sns.lineplot(x='year',y='flair_sent',data=df_twits[df_twits['year']>2014], label=\"flair\")\n",
    "sns.lineplot(x='year',y='vader_sent',data=df_twits[df_twits['year']>2014], label=\"vader\")\n",
    "sns.lineplot(x='year',y='google_sent',data=df_twits[df_twits['year']>2014], label=\"google\")\n",
    "plt.title(\"Yearly sentiment change for three different model for same stocktweets\")\n",
    "plt.ylabel(\"Average sentiment\")"
   ]
  },
  {
   "cell_type": "markdown",
   "id": "binding-occasion",
   "metadata": {},
   "source": [
    "#### Evaluate the sentiment of the google, vader and flair for different months"
   ]
  },
  {
   "cell_type": "code",
   "execution_count": 755,
   "id": "progressive-distribution",
   "metadata": {},
   "outputs": [],
   "source": [
    "df_twits_flair_month = df_twits.groupby('Month')[['flair_sent']].mean()\n",
    "df_twits_google_month = df_twits.groupby('Month')[['google_sent']].mean()\n",
    "df_twits_vader_month = df_twits.groupby('Month')[['vader_sent']].mean()"
   ]
  },
  {
   "cell_type": "code",
   "execution_count": 756,
   "id": "patient-knowing",
   "metadata": {},
   "outputs": [],
   "source": [
    "import seaborn as sns\n",
    "import matplotlib.pyplot as plt"
   ]
  },
  {
   "cell_type": "code",
   "execution_count": 757,
   "id": "cheap-checklist",
   "metadata": {},
   "outputs": [
    {
     "data": {
      "text/plain": [
       "Text(0.5, 1.0, 'Stocktwits sentiments variation for different months')"
      ]
     },
     "execution_count": 757,
     "metadata": {},
     "output_type": "execute_result"
    },
    {
     "data": {
      "image/png": "[encoded data removed]",
      "text/plain": [
       "<Figure size 432x288 with 1 Axes>"
      ]
     },
     "metadata": {
      "needs_background": "light"
     },
     "output_type": "display_data"
    }
   ],
   "source": [
    "sns.lineplot(x='Month',y='flair_sent',data=df_twits_flair_month, label=\"flair\")\n",
    "sns.lineplot(x='Month',y='vader_sent',data=df_twits_vader_month, label=\"vader\")\n",
    "sns.lineplot(x='Month',y='google_sent',data=df_twits_google_month, label=\"google\")\n",
    "plt.ylabel('sentiments')\n",
    "plt.title('Stocktwits sentiments variation for different months')"
   ]
  },
  {
   "cell_type": "markdown",
   "id": "sealed-fusion",
   "metadata": {},
   "source": [
    "google and  vader shows some similar trend for monthly average in comparison to the flair \n"
   ]
  },
  {
   "cell_type": "markdown",
   "id": "express-channel",
   "metadata": {},
   "source": [
    "#### How the sentiments vary for different months in different years"
   ]
  },
  {
   "cell_type": "code",
   "execution_count": 758,
   "id": "imperial-surname",
   "metadata": {},
   "outputs": [
    {
     "data": {
      "text/plain": [
       "<AxesSubplot:xlabel='Month', ylabel='google_sent'>"
      ]
     },
     "execution_count": 758,
     "metadata": {},
     "output_type": "execute_result"
    },
    {
     "data": {
      "image/png": "[encoded data removed]",
      "text/plain": [
       "<Figure size 432x288 with 1 Axes>"
      ]
     },
     "metadata": {
      "needs_background": "light"
     },
     "output_type": "display_data"
    }
   ],
   "source": [
    "sns.lineplot(x='Month',y='google_sent',hue='year',data=df_twits[df_twits['year']>2017])"
   ]
  },
  {
   "cell_type": "code",
   "execution_count": 759,
   "id": "generic-montreal",
   "metadata": {},
   "outputs": [
    {
     "data": {
      "text/plain": [
       "<AxesSubplot:xlabel='Month', ylabel='flair_sent'>"
      ]
     },
     "execution_count": 759,
     "metadata": {},
     "output_type": "execute_result"
    },
    {
     "data": {
      "image/png": "[encoded data removed]",
      "text/plain": [
       "<Figure size 432x288 with 1 Axes>"
      ]
     },
     "metadata": {
      "needs_background": "light"
     },
     "output_type": "display_data"
    }
   ],
   "source": [
    "sns.lineplot(x='Month',y='flair_sent',hue='year',data=df_twits[df_twits['year']>2017])"
   ]
  },
  {
   "cell_type": "code",
   "execution_count": 760,
   "id": "advanced-galaxy",
   "metadata": {},
   "outputs": [
    {
     "data": {
      "text/plain": [
       "<AxesSubplot:xlabel='Month', ylabel='vader_sent'>"
      ]
     },
     "execution_count": 760,
     "metadata": {},
     "output_type": "execute_result"
    },
    {
     "data": {
      "image/png": "[encoded data removed]",
      "text/plain": [
       "<Figure size 432x288 with 1 Axes>"
      ]
     },
     "metadata": {
      "needs_background": "light"
     },
     "output_type": "display_data"
    }
   ],
   "source": [
    "sns.lineplot(x='Month',y='vader_sent',hue='year',data=df_twits[df_twits['year']>2017])"
   ]
  },
  {
   "cell_type": "markdown",
   "id": "olive-eugene",
   "metadata": {},
   "source": [
    "#### Let see for the 2021 how the sentimet score vary for three different pretrained model"
   ]
  },
  {
   "cell_type": "code",
   "execution_count": 761,
   "id": "surprised-consumption",
   "metadata": {},
   "outputs": [],
   "source": [
    "df_twits_2021 = df_twits[df_twits['year']==2021].sort_values(by= ['Month'])"
   ]
  },
  {
   "cell_type": "code",
   "execution_count": 762,
   "id": "chinese-mercy",
   "metadata": {},
   "outputs": [
    {
     "data": {
      "text/plain": [
       "3    1482\n",
       "2     193\n",
       "1      66\n",
       "Name: Month, dtype: int64"
      ]
     },
     "execution_count": 762,
     "metadata": {},
     "output_type": "execute_result"
    }
   ],
   "source": [
    "#Counts of twits for different months \n",
    "df_twits_2021['Month'].value_counts()"
   ]
  },
  {
   "cell_type": "code",
   "execution_count": 763,
   "id": "british-pursuit",
   "metadata": {},
   "outputs": [
    {
     "data": {
      "text/plain": [
       "Newsfilter                 133\n",
       "fla                        132\n",
       "Quantisnow                 115\n",
       "TradeWithAlerts            112\n",
       "cctranscripts               96\n",
       "tickeron                    69\n",
       "STCKPRO                     57\n",
       "Insider_Analysis            48\n",
       "CZARBETS                    45\n",
       "otcdynamics                 43\n",
       "risenhoover                 39\n",
       "ChartMill                   36\n",
       "MarketBeat                  30\n",
       "FilingsVille                28\n",
       "Stock_Titan                 22\n",
       "Last10K                     20\n",
       "LORD_QUAS                   18\n",
       "SweepCast                   17\n",
       "earningscalendario          13\n",
       "dividendinvestorbyeagle     11\n",
       "Name: user, dtype: int64"
      ]
     },
     "execution_count": 763,
     "metadata": {},
     "output_type": "execute_result"
    }
   ],
   "source": [
    "#Number of twits from different users\n",
    "df_twits_2021['user'].value_counts(ascending = False).head(20)"
   ]
  },
  {
   "cell_type": "code",
   "execution_count": 764,
   "id": "suspended-stock",
   "metadata": {},
   "outputs": [
    {
     "data": {
      "text/plain": [
       "flair_sent  user                   \n",
       "-1          fla                        126\n",
       "            Newsfilter                 105\n",
       "            cctranscripts               68\n",
       "            tickeron                    65\n",
       "            Insider_Analysis            47\n",
       "            Quantisnow                  42\n",
       "            risenhoover                 39\n",
       "            TradeWithAlerts             38\n",
       "            STCKPRO                     34\n",
       "            MarketBeat                  30\n",
       "            ChartMill                   27\n",
       "            otcdynamics                 26\n",
       "            CZARBETS                    23\n",
       "            Last10K                     20\n",
       "            SweepCast                   17\n",
       "            FilingsVille                13\n",
       "            LORD_QUAS                   11\n",
       "            dividendinvestorbyeagle     11\n",
       "            earningscalendario          11\n",
       "            mikedeatworld               10\n",
       "Name: user, dtype: int64"
      ]
     },
     "execution_count": 764,
     "metadata": {},
     "output_type": "execute_result"
    }
   ],
   "source": [
    "df_twits_2021.groupby(['flair_sent'])['user'].value_counts(ascending= False).head(20)"
   ]
  },
  {
   "cell_type": "markdown",
   "id": "quiet-arizona",
   "metadata": {},
   "source": [
    "Top users has more than 90% of their twits with negative sentiments these looks like professional twits advertisement for stock market recommendation"
   ]
  },
  {
   "cell_type": "markdown",
   "id": "prime-exception",
   "metadata": {},
   "source": [
    "#### Compare the google and flair pretrained model for stocktwits"
   ]
  },
  {
   "cell_type": "code",
   "execution_count": 765,
   "id": "effective-drive",
   "metadata": {},
   "outputs": [],
   "source": [
    "df_twits['google_flair'] = np.where(df_twits['google_sent'] == df_twits['flair_sent'], 'True', 'False')"
   ]
  },
  {
   "cell_type": "code",
   "execution_count": 766,
   "id": "continuous-theorem",
   "metadata": {
    "scrolled": true
   },
   "outputs": [
    {
     "data": {
      "text/plain": [
       "True     0.673365\n",
       "False    0.326635\n",
       "Name: google_flair, dtype: float64"
      ]
     },
     "execution_count": 766,
     "metadata": {},
     "output_type": "execute_result"
    }
   ],
   "source": [
    "df_twits['google_flair'].value_counts(normalize = True)"
   ]
  },
  {
   "cell_type": "markdown",
   "id": "uniform-firmware",
   "metadata": {},
   "source": [
    "There is match in the prediction for the google and flair sentiment for 67% percentile. "
   ]
  },
  {
   "cell_type": "code",
   "execution_count": 767,
   "id": "fatal-necessity",
   "metadata": {},
   "outputs": [
    {
     "data": {
      "text/plain": [
       "6    ['Obscure SPAC time  \\\\n\\\\n$ANDA - Merging wit...\n",
       "7                ['$ANDA Waiting on merger news like']\n",
       "9    ['Prospectuses and communications, business co...\n",
       "Name: twits, dtype: object"
      ]
     },
     "execution_count": 767,
     "metadata": {},
     "output_type": "execute_result"
    }
   ],
   "source": [
    "#exploring the twits with wrong prediction between the google and flair\n",
    "df_twits[df_twits['google_flair']== 'False']['twits'][:3]"
   ]
  },
  {
   "cell_type": "code",
   "execution_count": 769,
   "id": "sophisticated-camera",
   "metadata": {},
   "outputs": [],
   "source": [
    "from nltk.corpus import stopwords\n",
    "stops = stopwords.words('english')\n",
    "# we can find lots of single letters so append with the stop words\n",
    "list_stops = ['a', 'b', 'c', 'd', 'e', 'f', 'g', 'h', 'i', 'j', 'l','m', 'n', 'o', 'p', 'q', 'r', 's', 't', 'u','v', 'w', 'x', 'y', 'z']\n",
    "for i in list_stops:\n",
    "    stops.append(i)"
   ]
  },
  {
   "cell_type": "code",
   "execution_count": 770,
   "id": "copyrighted-employment",
   "metadata": {},
   "outputs": [],
   "source": [
    "lemmatizer = WordNetLemmatizer()\n",
    "porters = PorterStemmer()\n",
    "\n",
    "\n",
    "def clean_tweet(tweet):\n",
    "    'remove punctuation, clean ,lemmatize and stem'\n",
    "    tweet = re.sub(r\"[$]\\w+\", \"\", tweet)# remove the tickers at any place with dollar sign\n",
    "    tweet = re.sub(r\"[u]\\d+\", \"\", tweet)# remove anything starting with u and the digits\n",
    "    tweet=  re.sub('((www\\.[^\\s]+)|(https?://[^\\s]+))','', tweet)# remove the url\n",
    "    tweet = ' '.join(re.sub('(@[A-Za-z0-9]+)|([^A-Za-z \\t])|(\\w+:\\/\\/\\S+)', ' ', tweet).lower().split())\n",
    "    tweet = lemmatizer.lemmatize(tweet)\n",
    "    tweet = porters.stem(tweet)\n",
    "    return tweet\n",
    "\n",
    "df_twits[\"Clean_Tweet\"] = df_twits['twits'].apply(lambda x: clean_tweet(x))"
   ]
  },
  {
   "cell_type": "code",
   "execution_count": 771,
   "id": "arranged-novel",
   "metadata": {},
   "outputs": [],
   "source": [
    "token = TweetTokenizer()\n",
    "tfidf = TfidfVectorizer(stop_words = 'english', tokenizer = token.tokenize)\n",
    "text_count = tfidf.fit_transform(df_twits['Clean_Tweet'])\n",
    "\n",
    "#splitting the twits for train and test\n",
    "X_train, X_test, y_train, y_test = train_test_split(text_count, df_twits['google_sent'], test_size = 0.25, random_state = 5)"
   ]
  },
  {
   "cell_type": "markdown",
   "id": "treated-dragon",
   "metadata": {},
   "source": [
    "## Modeling"
   ]
  },
  {
   "cell_type": "markdown",
   "id": "fatty-finland",
   "metadata": {},
   "source": [
    "We get the labelled data now we want to build the model for three different labelled data. We will train our labelled data and evaluate the accuracy.\n",
    "I used the TfidfVectorizer and Naive Bayes model and obtain the accuracy."
   ]
  },
  {
   "cell_type": "markdown",
   "id": "widespread-register",
   "metadata": {},
   "source": [
    "#### Test of the google sentiment with Naive Bayes model"
   ]
  },
  {
   "cell_type": "code",
   "execution_count": 772,
   "id": "every-microphone",
   "metadata": {},
   "outputs": [],
   "source": [
    "# Naive Bayes model \n",
    "MNB = MultinomialNB()\n",
    "MNB.fit(X_train, y_train)\n",
    "predicted = MNB.predict(X_test)\n",
    "accuracy_score = metrics.accuracy_score(predicted, y_test)"
   ]
  },
  {
   "cell_type": "code",
   "execution_count": 773,
   "id": "demographic-stanford",
   "metadata": {},
   "outputs": [
    {
     "name": "stdout",
     "output_type": "stream",
     "text": [
      "The accuracy score for MNB is 75.47445255474453\n"
     ]
    }
   ],
   "source": [
    "print('The accuracy score for MNB is {}'.format(accuracy_score*100))"
   ]
  },
  {
   "cell_type": "markdown",
   "id": "fourth-nancy",
   "metadata": {},
   "source": [
    "#### Test of the flair sentiment with Naive Bayes model"
   ]
  },
  {
   "cell_type": "code",
   "execution_count": 774,
   "id": "least-fiber",
   "metadata": {},
   "outputs": [],
   "source": [
    "X_train, X_test, y_train, y_test = train_test_split(text_count, df_twits['flair_sent'], test_size = 0.25, random_state = 5)"
   ]
  },
  {
   "cell_type": "code",
   "execution_count": 775,
   "id": "automotive-legislation",
   "metadata": {},
   "outputs": [],
   "source": [
    "# Naive Bayes model \n",
    "MNB = MultinomialNB()\n",
    "MNB.fit(X_train, y_train)\n",
    "predicted = MNB.predict(X_test)\n",
    "accuracy_score = metrics.accuracy_score(predicted, y_test)"
   ]
  },
  {
   "cell_type": "code",
   "execution_count": 776,
   "id": "offshore-guard",
   "metadata": {},
   "outputs": [
    {
     "name": "stdout",
     "output_type": "stream",
     "text": [
      "The accuracy score for MNB is 82.18978102189782\n"
     ]
    }
   ],
   "source": [
    "print('The accuracy score for MNB is {}'.format(accuracy_score*100))"
   ]
  },
  {
   "cell_type": "markdown",
   "id": "cardiovascular-atmosphere",
   "metadata": {},
   "source": [
    "#### Test of the vader sentiment with  Bayes model"
   ]
  },
  {
   "cell_type": "code",
   "execution_count": 777,
   "id": "expanded-public",
   "metadata": {},
   "outputs": [],
   "source": [
    "X_train, X_test, y_train, y_test = train_test_split(text_count, df_twits['vader_sent'], test_size = 0.25, random_state = 5)"
   ]
  },
  {
   "cell_type": "code",
   "execution_count": 778,
   "id": "gentle-church",
   "metadata": {},
   "outputs": [],
   "source": [
    "# Naive Bayes model \n",
    "MNB = MultinomialNB()\n",
    "MNB.fit(X_train, y_train)\n",
    "predicted = MNB.predict(X_test)\n",
    "accuracy_score = metrics.accuracy_score(predicted, y_test)"
   ]
  },
  {
   "cell_type": "code",
   "execution_count": 779,
   "id": "charming-track",
   "metadata": {},
   "outputs": [
    {
     "name": "stdout",
     "output_type": "stream",
     "text": [
      "The accuracy score for MNB is 83.5036496350365\n"
     ]
    }
   ],
   "source": [
    "print('The accuracy score for MNB is {}'.format(accuracy_score*100))"
   ]
  },
  {
   "cell_type": "markdown",
   "id": "logical-force",
   "metadata": {},
   "source": [
    "vader built the better model with highest accuracy compare to google and flair."
   ]
  },
  {
   "cell_type": "code",
   "execution_count": null,
   "id": "grand-relief",
   "metadata": {},
   "outputs": [],
   "source": []
  }
 ],
 "metadata": {
  "kernelspec": {
   "display_name": "Python 3",
   "language": "python",
   "name": "python3"
  },
  "language_info": {
   "codemirror_mode": {
    "name": "ipython",
    "version": 3
   },
   "file_extension": ".py",
   "mimetype": "text/x-python",
   "name": "python",
   "nbconvert_exporter": "python",
   "pygments_lexer": "ipython3",
   "version": "3.7.7"
  }
 },
 "nbformat": 4,
 "nbformat_minor": 5
}
